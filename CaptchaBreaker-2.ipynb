{
  "nbformat": 4,
  "nbformat_minor": 0,
  "metadata": {
    "colab": {
      "name": "CaptchaBreaker.ipynb",
      "provenance": [],
      "toc_visible": true
    },
    "kernelspec": {
      "name": "python3",
      "display_name": "Python 3"
    }
  },
  "cells": [
    {
      "cell_type": "code",
      "metadata": {
        "id": "9G0QdIsH9YBc",
        "colab_type": "code",
        "colab": {}
      },
      "source": [
        "import numpy as np \n",
        "import pandas as pd \n",
        "# Input data files are available in the \"../input/\" directory.\n",
        "# For example, running this (by clicking run or pressing Shift+Enter) will list the files in the input directory\n",
        "%matplotlib inline \n",
        "import matplotlib.pyplot as plt\n",
        "import os\n",
        "print(os.listdir(\"../input\"))\n"
      ],
      "execution_count": null,
      "outputs": []
    },
    {
      "cell_type": "code",
      "metadata": {
        "id": "z3bAzloh-W07",
        "colab_type": "code",
        "colab": {}
      },
      "source": [
        "from keras import layers\n",
        "from keras.models import Model\n",
        "from keras.models import load_model\n",
        "from keras import callbacks\n",
        "import os\n",
        "import cv2\n",
        "import string\n",
        "import numpy as np\n",
        "\n",
        "#Init main values\n",
        "symbols = string.ascii_lowercase + \"0123456789\" #symbols captcha can contain\n",
        "num_symbols = len(symbols)\n",
        "img_shape = (50, 200, 1)"
      ],
      "execution_count": null,
      "outputs": []
    },
    {
      "cell_type": "code",
      "metadata": {
        "id": "qjfkl0Bw-aYb",
        "colab_type": "code",
        "colab": {}
      },
      "source": [
        "def create_model():\n",
        "    img = layers.Input(shape=img_shape) \n",
        "    conv1 = layers.Conv2D(16, (3, 3), padding='same', activation='relu')(img)\n",
        "    mp1 = layers.MaxPooling2D(padding='same')(conv1)  #100x25\n",
        "    conv2 = layers.Conv2D(32, (3, 3), padding='same', activation='relu')(mp1)\n",
        "    mp2 = layers.MaxPooling2D(padding='same')(conv2)  #50x13\n",
        "    conv3 = layers.Conv2D(32, (3, 3), padding='same', activation='relu')(mp2)\n",
        "    bn = layers.BatchNormalization()(conv3)\n",
        "    mp3 = layers.MaxPooling2D(padding='same')(bn)  #25x7\n",
        "    \n",
        "    \n",
        "    flat = layers.Flatten()(mp3)\n",
        "    outs = []\n",
        "    for _ in range(5):\n",
        "        dens1 = layers.Dense(64, activation='relu')(flat)\n",
        "        drop = layers.Dropout(0.5)(dens1)\n",
        "        res = layers.Dense(num_symbols, activation='sigmoid')(drop)\n",
        "\n",
        "        outs.append(res)\n",
        "    \n",
        "    # Compile model and return it\n",
        "    model = Model(img, outs)\n",
        "    model.compile(loss='categorical_crossentropy', optimizer='adam',metrics=[\"accuracy\"])\n",
        "    return model"
      ],
      "execution_count": null,
      "outputs": []
    },
    {
      "cell_type": "code",
      "metadata": {
        "id": "RU8DFrVa-ewn",
        "colab_type": "code",
        "colab": {}
      },
      "source": [
        "def preprocess_data():\n",
        "    n_samples = len(os.listdir('../input/captcha-version-2-images/samples/samples'))\n",
        "    X = np.zeros((n_samples, 50, 200, 1)) #1070*50*200\n",
        "    y = np.zeros((5, n_samples, num_symbols)) #5*1070*36\n",
        "\n",
        "    for i, pic in enumerate(os.listdir('../input/captcha-version-2-images/samples/samples')):\n",
        "        # Read image as grayscale\n",
        "        img = cv2.imread(os.path.join('../input/captcha-version-2-images/samples/samples', pic), cv2.IMREAD_GRAYSCALE)\n",
        "        pic_target = pic[:-4]\n",
        "        if len(pic_target) < 6:\n",
        "            # Scale and reshape image\n",
        "            img = img / 255.0\n",
        "            img = np.reshape(img, (50, 200, 1))\n",
        "            # Define targets and code them using OneHotEncoding\n",
        "            targs = np.zeros((5, num_symbols))\n",
        "            for j, l in enumerate(pic_target):\n",
        "                ind = symbols.find(l)\n",
        "                targs[j, ind] = 1\n",
        "            X[i] = img\n",
        "            y[:, i] = targs\n",
        "    \n",
        "    # Return final data\n",
        "    return X, y\n",
        "\n",
        "X, y = preprocess_data()\n",
        "X_train, y_train = X[:970], y[:, :970]\n",
        "X_test, y_test = X[970:], y[:, 970:]"
      ],
      "execution_count": null,
      "outputs": []
    },
    {
      "cell_type": "code",
      "metadata": {
        "id": "ZI8IU3DF-h-d",
        "colab_type": "code",
        "colab": {}
      },
      "source": [
        "model=create_model();\n",
        "model.summary();"
      ],
      "execution_count": null,
      "outputs": []
    },
    {
      "cell_type": "code",
      "metadata": {
        "id": "JKAQmVcU-kdM",
        "colab_type": "code",
        "colab": {}
      },
      "source": [
        "hist = model.fit(X_train, [y_train[0], y_train[1], y_train[2], y_train[3], y_train[4]], batch_size=32, epochs=30,verbose=1, validation_split=0.2)"
      ],
      "execution_count": null,
      "outputs": []
    },
    {
      "cell_type": "code",
      "metadata": {
        "id": "-cikoMh9-pBX",
        "colab_type": "code",
        "colab": {}
      },
      "source": [
        "def predict(filepath):\n",
        "    img = cv2.imread(filepath, cv2.IMREAD_GRAYSCALE)\n",
        "    if img is not None:\n",
        "        img = img / 255.0\n",
        "    else:\n",
        "        print(\"Not detected\");\n",
        "    res = np.array(model.predict(img[np.newaxis, :, :, np.newaxis]))\n",
        "    ans = np.reshape(res, (5, 36))\n",
        "    l_ind = []\n",
        "    probs = []\n",
        "    for a in ans:\n",
        "        l_ind.append(np.argmax(a))\n",
        "        #probs.append(np.max(a))\n",
        "\n",
        "    capt = ''\n",
        "    for l in l_ind:\n",
        "        capt += symbols[l]\n",
        "    return capt"
      ],
      "execution_count": null,
      "outputs": []
    },
    {
      "cell_type": "code",
      "metadata": {
        "id": "0Mk1WvGY-vpC",
        "colab_type": "code",
        "colab": {}
      },
      "source": [
        "score= model.evaluate(X_test,[y_test[0], y_test[1], y_test[2], y_test[3], y_test[4]],verbose=1)\n",
        "print('Test Loss and accuracy:', score)"
      ],
      "execution_count": null,
      "outputs": []
    },
    {
      "cell_type": "code",
      "metadata": {
        "id": "oBteClEo-_Tk",
        "colab_type": "code",
        "colab": {}
      },
      "source": [
        "model.evaluate(X_test, [y_test[0], y_test[1], y_test[2], y_test[3], y_test[4]])\n",
        "print(predict('../input/captcha-version-2-images/samples/samples/f2m8n.png'))\n",
        "print(predict('../input/captcha-version-2-images/samples/samples/8n5p3.png'))\n"
      ],
      "execution_count": null,
      "outputs": []
    },
    {
      "cell_type": "code",
      "metadata": {
        "id": "750A5-IP_Cjx",
        "colab_type": "code",
        "colab": {}
      },
      "source": [
        "%matplotlib inline \n",
        "import matplotlib.pyplot as plt\n",
        "img=cv2.imread('../input/captcha/capthaimage/capthaimages/a.png',cv2.IMREAD_GRAYSCALE)\n",
        "plt.imshow(img, cmap=plt.get_cmap('gray'))"
      ],
      "execution_count": null,
      "outputs": []
    }
  ]
}